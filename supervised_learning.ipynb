{
  "nbformat": 4,
  "nbformat_minor": 0,
  "metadata": {
    "colab": {
      "name": "supervised_learning.ipynb",
      "provenance": [],
      "collapsed_sections": [],
      "toc_visible": true
    },
    "kernelspec": {
      "name": "python3",
      "display_name": "Python 3"
    },
    "accelerator": "GPU"
  },
  "cells": [
    {
      "cell_type": "markdown",
      "metadata": {
        "id": "dljVktpQTshu",
        "colab_type": "text"
      },
      "source": [
        "---\n",
        "# Artificial Neural Network Regression\n",
        "---\n",
        "\n",
        "**Oleh :**\n",
        "    \n",
        "    - Taufik Fathurahman [1301160790]\n",
        "    - Brenda Irena [1301164641]\n",
        "    - Husnul Khotimah Farid [1301162742]"
      ]
    },
    {
      "cell_type": "markdown",
      "metadata": {
        "id": "xDRmFOEpbN9i",
        "colab_type": "text"
      },
      "source": [
        "Neural Network adalah model yang terinspirasi oleh bagaimana neuron dalam otak manusia bekerja. Tiap neuron pada otak manusia salig berhubungan dan informasi mengalir dari setiap neuron tersebut. \n",
        "\n"
      ]
    },
    {
      "cell_type": "code",
      "metadata": {
        "id": "dnTxDduSmLoh",
        "colab_type": "code",
        "outputId": "47108a5f-4358-41f2-ac6a-e4887c080f3c",
        "colab": {
          "base_uri": "https://localhost:8080/",
          "height": 309
        }
      },
      "source": [
        "!pip install git+https://github.com/tensorflow/docs"
      ],
      "execution_count": 0,
      "outputs": [
        {
          "output_type": "stream",
          "text": [
            "Collecting git+https://github.com/tensorflow/docs\n",
            "  Cloning https://github.com/tensorflow/docs to /tmp/pip-req-build-kpbn5h30\n",
            "  Running command git clone -q https://github.com/tensorflow/docs /tmp/pip-req-build-kpbn5h30\n",
            "Requirement already satisfied: astor in /usr/local/lib/python3.6/dist-packages (from tensorflow-docs==0.0.0) (0.8.0)\n",
            "Requirement already satisfied: absl-py in /usr/local/lib/python3.6/dist-packages (from tensorflow-docs==0.0.0) (0.8.1)\n",
            "Requirement already satisfied: six in /usr/local/lib/python3.6/dist-packages (from tensorflow-docs==0.0.0) (1.12.0)\n",
            "Collecting pathlib2\n",
            "  Downloading https://files.pythonhosted.org/packages/e9/45/9c82d3666af4ef9f221cbb954e1d77ddbb513faf552aea6df5f37f1a4859/pathlib2-2.3.5-py2.py3-none-any.whl\n",
            "Requirement already satisfied: pyyaml in /usr/local/lib/python3.6/dist-packages (from tensorflow-docs==0.0.0) (3.13)\n",
            "Building wheels for collected packages: tensorflow-docs\n",
            "  Building wheel for tensorflow-docs (setup.py) ... \u001b[?25l\u001b[?25hdone\n",
            "  Created wheel for tensorflow-docs: filename=tensorflow_docs-0.0.0-cp36-none-any.whl size=80547 sha256=519723221758755505756361cc8cef0a093f659d882a4c2a708d7559cdac9071\n",
            "  Stored in directory: /tmp/pip-ephem-wheel-cache-wccdrzyh/wheels/eb/1b/35/fce87697be00d2fc63e0b4b395b0d9c7e391a10e98d9a0d97f\n",
            "Successfully built tensorflow-docs\n",
            "Installing collected packages: pathlib2, tensorflow-docs\n",
            "Successfully installed pathlib2-2.3.5 tensorflow-docs-0.0.0\n"
          ],
          "name": "stdout"
        }
      ]
    },
    {
      "cell_type": "code",
      "metadata": {
        "id": "hbASQIeDveP0",
        "colab_type": "code",
        "colab": {}
      },
      "source": [
        "from __future__ import absolute_import, division, print_function, unicode_literals\n",
        "\n",
        "import os\n",
        "import pandas as pd\n",
        "import numpy as np\n",
        "import scipy.stats as st\n",
        "import missingno as msno\n",
        "\n",
        "from sklearn import preprocessing\n",
        "from sklearn.model_selection import train_test_split\n",
        "from sklearn import linear_model\n",
        "from sklearn.metrics import r2_score\n",
        "from scipy.stats import pearsonr\n",
        "\n",
        "import matplotlib.pyplot as plt\n",
        "import seaborn as sns; sns.set()\n",
        "\n",
        "%matplotlib inline"
      ],
      "execution_count": 0,
      "outputs": []
    },
    {
      "cell_type": "code",
      "metadata": {
        "id": "lMq-_uuWl001",
        "colab_type": "code",
        "outputId": "0675fefb-773a-4e9c-cea1-e5a7c74e7ce3",
        "colab": {
          "base_uri": "https://localhost:8080/",
          "height": 51
        }
      },
      "source": [
        "try:\n",
        "  %tensorflow_version 2.x\n",
        "except Exception:\n",
        "  pass\n",
        "import tensorflow as tf\n",
        "\n",
        "from tensorflow import keras\n",
        "from tensorflow.keras import layers\n",
        "\n",
        "print(tf.__version__)"
      ],
      "execution_count": 0,
      "outputs": [
        {
          "output_type": "stream",
          "text": [
            "TensorFlow 2.x selected.\n",
            "2.0.0\n"
          ],
          "name": "stdout"
        }
      ]
    },
    {
      "cell_type": "code",
      "metadata": {
        "id": "EL_PX_wRl4d2",
        "colab_type": "code",
        "colab": {}
      },
      "source": [
        "import tensorflow_docs as tfdocs\n",
        "import tensorflow_docs.plots\n",
        "import tensorflow_docs.modeling"
      ],
      "execution_count": 0,
      "outputs": []
    },
    {
      "cell_type": "markdown",
      "metadata": {
        "id": "O1C3Ls2N9Q75",
        "colab_type": "text"
      },
      "source": [
        "## 1 - Artificial Neural Network\n",
        "\n",
        "\n",
        "*Artificial Neural Network* merupakan model yang terinspirasi oleh bagaimana neuron dalam otak manusia bekerja. Tiap neuron pada otak manusia saling berhubungan dan informasi mengalir dari setiap neuron tersebut. ANN terdiri dari input layer, hidden layer, dan output layer. Tiap neuron menerima input dan melakukan operasi dot dengan sebuah weight, menjumlahkannya (weighted sum) dan menambahkan bias. Hasil dari operasi ini akan dijadikan parameter dari activation function yang akan dijadikan output dari neuron tersebut.\n",
        "\n",
        "Model pada ANN pada dasarnya merupakan fungsi model matematika yang mendefinisikan fungsi f : X -> Y. Secara umum, lapisan pada ANN dibagi menjadi tiga bagian:\n",
        "\n",
        "\n",
        "*   Input Layer, terdiri dari neuron yang menerima data masukkan dari variabel X. Semua neuron pada lapis ini dapat terhubung ke neuron pada hidden layer atau langsung ke output layer jika tidak menggunakan hidden layer.\n",
        "*   Hidden Layer, terdiri dari neuron yang menerima data dari input layer.\n",
        "*   Output Layer, terdiri dari neuron yang menerima data dari hidden layer atau langsung dari input layer yang nilai keluarannya melambangkan hasil kalkulasi dari X menjadi nilai Y.\n",
        "\n",
        "\n",
        "\n",
        "\n"
      ]
    },
    {
      "cell_type": "markdown",
      "metadata": {
        "id": "UWRpUuDXBvxy",
        "colab_type": "text"
      },
      "source": [
        "## 2 - Artificial Neural Network Regression\n",
        "\n",
        "ANN Regresi memprediksi variabel output sebagai fungsi dari input. Fitur input (variabel independen) dapat berupa tipe kategorikal atau numerik, namun untuk ANN regresi, variabel yang diperlukan adalah variabel dependen numerik. Jika variabel output adalah variabel kategorikal (biner), maka ANN akan berfungsi sebagai classifier."
      ]
    },
    {
      "cell_type": "markdown",
      "metadata": {
        "id": "IN95nuDqC0tu",
        "colab_type": "text"
      },
      "source": [
        "##3 - Activation Function\n",
        "\n",
        "*Activation function* befungsi untuk mengubah sinyal input dari sebuah node di ANN menjadi sinyal output. Sinyal keluaran ini digunakan sebagai input ke lapisan berikutnya dalam tumpukan. *Activation function* menentukan apakah neuron tersebut harus “aktif” atau tidak berdasarkan dari *weighted sum* dari input. *Activation function* yang digunakan kali ini adalah Rectified Linear Unit (RelU). Persamaan matematikanya adalah sebagai berikut:\n",
        "\n",
        "$$   f(x) = max (0, x)  $$\n",
        "$$ f(x) = \\Big \\{\\begin{matrix}0, & 𝑥 < 0\\\\ 1, & 𝑥 ≥ 0\\end{matrix}$$"
      ]
    },
    {
      "cell_type": "markdown",
      "metadata": {
        "id": "pNX6WJImnjTJ",
        "colab_type": "text"
      },
      "source": [
        "\n",
        "\n",
        "\n",
        "\n",
        "\n"
      ]
    },
    {
      "cell_type": "markdown",
      "metadata": {
        "id": "s2jnQo0yy2x_",
        "colab_type": "text"
      },
      "source": [
        "## 4 - Fully Connected Layer\n",
        "\n",
        "*Fully connected layer* adalah lapisan dimana semua neuron aktivasi dari lapisan sebelumnya terhubung semua dengan neuron di lapisan selanjutnya seperti halnya jaringan syaraf tiruan biasa. Setiap aktivasi dari lapisan sebelumnya perlu diubah menjadi data satu dimensi sebelum dapat dihubungkan ke semua neuron di lapisan *fully-connected*."
      ]
    },
    {
      "cell_type": "markdown",
      "metadata": {
        "id": "AzxGNOenwEVH",
        "colab_type": "text"
      },
      "source": [
        "---\n",
        "# Simple Exploratory Data Analysis"
      ]
    },
    {
      "cell_type": "code",
      "metadata": {
        "id": "umlS_CXzR-DU",
        "colab_type": "code",
        "colab": {}
      },
      "source": [
        "SELECTED_COLS = ['bathrooms', 'waterfront', 'sqft_above', 'sqft_living15', 'grade', \n",
        "                 'yr_renovated', 'price', 'bedrooms', 'long', 'sqft_lot15', 'sqft_living', \n",
        "                 'condition', 'lat', 'sqft_basement', 'yr_built', 'sqft_lot', 'view']\n",
        "                 \n",
        "raw_dataset = pd.read_csv(\n",
        "    'https://raw.githubusercontent.com/Jonasyao/Machine-Learning-Specialization-University-of-Washington-/master/Regression/Assignment_four/kc_house_data.csv',\n",
        "    dtype={'bathrooms':float, 'waterfront':int, 'sqft_above':int, 'sqft_living15':float, \n",
        "           'grade':int, 'yr_renovated':int, 'price':float, 'bedrooms':float, \n",
        "           'zipcode':str, 'long':float, 'sqft_lot15':float, 'sqft_living':float, \n",
        "           'floors':str, 'condition':int, 'lat':float, 'date':str, \n",
        "           'sqft_basement':int, 'yr_built':int, 'id':str, 'sqft_lot':int, 'view':int},\n",
        "    na_values = \"NaN\",\n",
        "    usecols = SELECTED_COLS,\n",
        "    sep=\",\", \n",
        "    skipinitialspace=True \n",
        ")"
      ],
      "execution_count": 0,
      "outputs": []
    },
    {
      "cell_type": "code",
      "metadata": {
        "id": "w9KXLkMdRp64",
        "colab_type": "code",
        "outputId": "bf1f1b01-ccde-4e25-984d-f47248b0feeb",
        "colab": {
          "base_uri": "https://localhost:8080/",
          "height": 439
        }
      },
      "source": [
        "raw_dataset"
      ],
      "execution_count": 0,
      "outputs": [
        {
          "output_type": "execute_result",
          "data": {
            "text/html": [
              "<div>\n",
              "<style scoped>\n",
              "    .dataframe tbody tr th:only-of-type {\n",
              "        vertical-align: middle;\n",
              "    }\n",
              "\n",
              "    .dataframe tbody tr th {\n",
              "        vertical-align: top;\n",
              "    }\n",
              "\n",
              "    .dataframe thead th {\n",
              "        text-align: right;\n",
              "    }\n",
              "</style>\n",
              "<table border=\"1\" class=\"dataframe\">\n",
              "  <thead>\n",
              "    <tr style=\"text-align: right;\">\n",
              "      <th></th>\n",
              "      <th>price</th>\n",
              "      <th>bedrooms</th>\n",
              "      <th>bathrooms</th>\n",
              "      <th>sqft_living</th>\n",
              "      <th>sqft_lot</th>\n",
              "      <th>waterfront</th>\n",
              "      <th>view</th>\n",
              "      <th>condition</th>\n",
              "      <th>grade</th>\n",
              "      <th>sqft_above</th>\n",
              "      <th>sqft_basement</th>\n",
              "      <th>yr_built</th>\n",
              "      <th>yr_renovated</th>\n",
              "      <th>lat</th>\n",
              "      <th>long</th>\n",
              "      <th>sqft_living15</th>\n",
              "      <th>sqft_lot15</th>\n",
              "    </tr>\n",
              "  </thead>\n",
              "  <tbody>\n",
              "    <tr>\n",
              "      <th>0</th>\n",
              "      <td>221900.0</td>\n",
              "      <td>3.0</td>\n",
              "      <td>1.00</td>\n",
              "      <td>1180.0</td>\n",
              "      <td>5650</td>\n",
              "      <td>0</td>\n",
              "      <td>0</td>\n",
              "      <td>3</td>\n",
              "      <td>7</td>\n",
              "      <td>1180</td>\n",
              "      <td>0</td>\n",
              "      <td>1955</td>\n",
              "      <td>0</td>\n",
              "      <td>47.5112</td>\n",
              "      <td>-122.257</td>\n",
              "      <td>1340.0</td>\n",
              "      <td>5650.0</td>\n",
              "    </tr>\n",
              "    <tr>\n",
              "      <th>1</th>\n",
              "      <td>538000.0</td>\n",
              "      <td>3.0</td>\n",
              "      <td>2.25</td>\n",
              "      <td>2570.0</td>\n",
              "      <td>7242</td>\n",
              "      <td>0</td>\n",
              "      <td>0</td>\n",
              "      <td>3</td>\n",
              "      <td>7</td>\n",
              "      <td>2170</td>\n",
              "      <td>400</td>\n",
              "      <td>1951</td>\n",
              "      <td>1991</td>\n",
              "      <td>47.7210</td>\n",
              "      <td>-122.319</td>\n",
              "      <td>1690.0</td>\n",
              "      <td>7639.0</td>\n",
              "    </tr>\n",
              "    <tr>\n",
              "      <th>2</th>\n",
              "      <td>180000.0</td>\n",
              "      <td>2.0</td>\n",
              "      <td>1.00</td>\n",
              "      <td>770.0</td>\n",
              "      <td>10000</td>\n",
              "      <td>0</td>\n",
              "      <td>0</td>\n",
              "      <td>3</td>\n",
              "      <td>6</td>\n",
              "      <td>770</td>\n",
              "      <td>0</td>\n",
              "      <td>1933</td>\n",
              "      <td>0</td>\n",
              "      <td>47.7379</td>\n",
              "      <td>-122.233</td>\n",
              "      <td>2720.0</td>\n",
              "      <td>8062.0</td>\n",
              "    </tr>\n",
              "    <tr>\n",
              "      <th>3</th>\n",
              "      <td>604000.0</td>\n",
              "      <td>4.0</td>\n",
              "      <td>3.00</td>\n",
              "      <td>1960.0</td>\n",
              "      <td>5000</td>\n",
              "      <td>0</td>\n",
              "      <td>0</td>\n",
              "      <td>5</td>\n",
              "      <td>7</td>\n",
              "      <td>1050</td>\n",
              "      <td>910</td>\n",
              "      <td>1965</td>\n",
              "      <td>0</td>\n",
              "      <td>47.5208</td>\n",
              "      <td>-122.393</td>\n",
              "      <td>1360.0</td>\n",
              "      <td>5000.0</td>\n",
              "    </tr>\n",
              "    <tr>\n",
              "      <th>4</th>\n",
              "      <td>510000.0</td>\n",
              "      <td>3.0</td>\n",
              "      <td>2.00</td>\n",
              "      <td>1680.0</td>\n",
              "      <td>8080</td>\n",
              "      <td>0</td>\n",
              "      <td>0</td>\n",
              "      <td>3</td>\n",
              "      <td>8</td>\n",
              "      <td>1680</td>\n",
              "      <td>0</td>\n",
              "      <td>1987</td>\n",
              "      <td>0</td>\n",
              "      <td>47.6168</td>\n",
              "      <td>-122.045</td>\n",
              "      <td>1800.0</td>\n",
              "      <td>7503.0</td>\n",
              "    </tr>\n",
              "    <tr>\n",
              "      <th>...</th>\n",
              "      <td>...</td>\n",
              "      <td>...</td>\n",
              "      <td>...</td>\n",
              "      <td>...</td>\n",
              "      <td>...</td>\n",
              "      <td>...</td>\n",
              "      <td>...</td>\n",
              "      <td>...</td>\n",
              "      <td>...</td>\n",
              "      <td>...</td>\n",
              "      <td>...</td>\n",
              "      <td>...</td>\n",
              "      <td>...</td>\n",
              "      <td>...</td>\n",
              "      <td>...</td>\n",
              "      <td>...</td>\n",
              "      <td>...</td>\n",
              "    </tr>\n",
              "    <tr>\n",
              "      <th>3160</th>\n",
              "      <td>485000.0</td>\n",
              "      <td>3.0</td>\n",
              "      <td>2.50</td>\n",
              "      <td>1840.0</td>\n",
              "      <td>8250</td>\n",
              "      <td>0</td>\n",
              "      <td>1</td>\n",
              "      <td>3</td>\n",
              "      <td>8</td>\n",
              "      <td>1340</td>\n",
              "      <td>500</td>\n",
              "      <td>1958</td>\n",
              "      <td>0</td>\n",
              "      <td>47.7767</td>\n",
              "      <td>-122.378</td>\n",
              "      <td>1970.0</td>\n",
              "      <td>7920.0</td>\n",
              "    </tr>\n",
              "    <tr>\n",
              "      <th>3161</th>\n",
              "      <td>780000.0</td>\n",
              "      <td>3.0</td>\n",
              "      <td>1.50</td>\n",
              "      <td>1620.0</td>\n",
              "      <td>7500</td>\n",
              "      <td>0</td>\n",
              "      <td>2</td>\n",
              "      <td>4</td>\n",
              "      <td>8</td>\n",
              "      <td>1620</td>\n",
              "      <td>0</td>\n",
              "      <td>1949</td>\n",
              "      <td>0</td>\n",
              "      <td>47.7014</td>\n",
              "      <td>-122.381</td>\n",
              "      <td>2440.0</td>\n",
              "      <td>7800.0</td>\n",
              "    </tr>\n",
              "    <tr>\n",
              "      <th>3162</th>\n",
              "      <td>720000.0</td>\n",
              "      <td>2.0</td>\n",
              "      <td>1.50</td>\n",
              "      <td>1840.0</td>\n",
              "      <td>9000</td>\n",
              "      <td>0</td>\n",
              "      <td>2</td>\n",
              "      <td>3</td>\n",
              "      <td>8</td>\n",
              "      <td>1340</td>\n",
              "      <td>500</td>\n",
              "      <td>1957</td>\n",
              "      <td>0</td>\n",
              "      <td>47.5281</td>\n",
              "      <td>-122.388</td>\n",
              "      <td>1880.0</td>\n",
              "      <td>7560.0</td>\n",
              "    </tr>\n",
              "    <tr>\n",
              "      <th>3163</th>\n",
              "      <td>415000.0</td>\n",
              "      <td>3.0</td>\n",
              "      <td>1.00</td>\n",
              "      <td>1360.0</td>\n",
              "      <td>73616</td>\n",
              "      <td>0</td>\n",
              "      <td>0</td>\n",
              "      <td>3</td>\n",
              "      <td>7</td>\n",
              "      <td>1360</td>\n",
              "      <td>0</td>\n",
              "      <td>1971</td>\n",
              "      <td>0</td>\n",
              "      <td>47.7528</td>\n",
              "      <td>-122.119</td>\n",
              "      <td>2040.0</td>\n",
              "      <td>50965.0</td>\n",
              "    </tr>\n",
              "    <tr>\n",
              "      <th>3164</th>\n",
              "      <td>480000.0</td>\n",
              "      <td>4.0</td>\n",
              "      <td>1.00</td>\n",
              "      <td>2080.0</td>\n",
              "      <td>5500</td>\n",
              "      <td>0</td>\n",
              "      <td>0</td>\n",
              "      <td>3</td>\n",
              "      <td>7</td>\n",
              "      <td>1040</td>\n",
              "      <td>1040</td>\n",
              "      <td>1941</td>\n",
              "      <td>0</td>\n",
              "      <td>47.6838</td>\n",
              "      <td>-122.300</td>\n",
              "      <td>NaN</td>\n",
              "      <td>NaN</td>\n",
              "    </tr>\n",
              "  </tbody>\n",
              "</table>\n",
              "<p>3165 rows × 17 columns</p>\n",
              "</div>"
            ],
            "text/plain": [
              "         price  bedrooms  bathrooms  ...     long  sqft_living15  sqft_lot15\n",
              "0     221900.0       3.0       1.00  ... -122.257         1340.0      5650.0\n",
              "1     538000.0       3.0       2.25  ... -122.319         1690.0      7639.0\n",
              "2     180000.0       2.0       1.00  ... -122.233         2720.0      8062.0\n",
              "3     604000.0       4.0       3.00  ... -122.393         1360.0      5000.0\n",
              "4     510000.0       3.0       2.00  ... -122.045         1800.0      7503.0\n",
              "...        ...       ...        ...  ...      ...            ...         ...\n",
              "3160  485000.0       3.0       2.50  ... -122.378         1970.0      7920.0\n",
              "3161  780000.0       3.0       1.50  ... -122.381         2440.0      7800.0\n",
              "3162  720000.0       2.0       1.50  ... -122.388         1880.0      7560.0\n",
              "3163  415000.0       3.0       1.00  ... -122.119         2040.0     50965.0\n",
              "3164  480000.0       4.0       1.00  ... -122.300            NaN         NaN\n",
              "\n",
              "[3165 rows x 17 columns]"
            ]
          },
          "metadata": {
            "tags": []
          },
          "execution_count": 6
        }
      ]
    },
    {
      "cell_type": "markdown",
      "metadata": {
        "id": "qBg_E9Wk-sFd",
        "colab_type": "text"
      },
      "source": [
        "### a. Handle Missing Value"
      ]
    },
    {
      "cell_type": "code",
      "metadata": {
        "id": "z9csQnaC6Udh",
        "colab_type": "code",
        "outputId": "aab28d0e-9d1d-4279-93a4-23b7669c8320",
        "colab": {
          "base_uri": "https://localhost:8080/",
          "height": 576
        }
      },
      "source": [
        "total = raw_dataset.isnull().sum().sort_values(ascending=False)\n",
        "percent = (raw_dataset.isnull().sum()/raw_dataset.isnull().count()).sort_values(ascending=False)\n",
        "missing_data = pd.concat([total, percent], axis=1, keys=['Total', 'Percent'])\n",
        "missing_data"
      ],
      "execution_count": 0,
      "outputs": [
        {
          "output_type": "execute_result",
          "data": {
            "text/html": [
              "<div>\n",
              "<style scoped>\n",
              "    .dataframe tbody tr th:only-of-type {\n",
              "        vertical-align: middle;\n",
              "    }\n",
              "\n",
              "    .dataframe tbody tr th {\n",
              "        vertical-align: top;\n",
              "    }\n",
              "\n",
              "    .dataframe thead th {\n",
              "        text-align: right;\n",
              "    }\n",
              "</style>\n",
              "<table border=\"1\" class=\"dataframe\">\n",
              "  <thead>\n",
              "    <tr style=\"text-align: right;\">\n",
              "      <th></th>\n",
              "      <th>Total</th>\n",
              "      <th>Percent</th>\n",
              "    </tr>\n",
              "  </thead>\n",
              "  <tbody>\n",
              "    <tr>\n",
              "      <th>sqft_lot15</th>\n",
              "      <td>1</td>\n",
              "      <td>0.000316</td>\n",
              "    </tr>\n",
              "    <tr>\n",
              "      <th>sqft_living15</th>\n",
              "      <td>1</td>\n",
              "      <td>0.000316</td>\n",
              "    </tr>\n",
              "    <tr>\n",
              "      <th>condition</th>\n",
              "      <td>0</td>\n",
              "      <td>0.000000</td>\n",
              "    </tr>\n",
              "    <tr>\n",
              "      <th>bedrooms</th>\n",
              "      <td>0</td>\n",
              "      <td>0.000000</td>\n",
              "    </tr>\n",
              "    <tr>\n",
              "      <th>bathrooms</th>\n",
              "      <td>0</td>\n",
              "      <td>0.000000</td>\n",
              "    </tr>\n",
              "    <tr>\n",
              "      <th>sqft_living</th>\n",
              "      <td>0</td>\n",
              "      <td>0.000000</td>\n",
              "    </tr>\n",
              "    <tr>\n",
              "      <th>sqft_lot</th>\n",
              "      <td>0</td>\n",
              "      <td>0.000000</td>\n",
              "    </tr>\n",
              "    <tr>\n",
              "      <th>waterfront</th>\n",
              "      <td>0</td>\n",
              "      <td>0.000000</td>\n",
              "    </tr>\n",
              "    <tr>\n",
              "      <th>view</th>\n",
              "      <td>0</td>\n",
              "      <td>0.000000</td>\n",
              "    </tr>\n",
              "    <tr>\n",
              "      <th>grade</th>\n",
              "      <td>0</td>\n",
              "      <td>0.000000</td>\n",
              "    </tr>\n",
              "    <tr>\n",
              "      <th>sqft_above</th>\n",
              "      <td>0</td>\n",
              "      <td>0.000000</td>\n",
              "    </tr>\n",
              "    <tr>\n",
              "      <th>sqft_basement</th>\n",
              "      <td>0</td>\n",
              "      <td>0.000000</td>\n",
              "    </tr>\n",
              "    <tr>\n",
              "      <th>yr_built</th>\n",
              "      <td>0</td>\n",
              "      <td>0.000000</td>\n",
              "    </tr>\n",
              "    <tr>\n",
              "      <th>yr_renovated</th>\n",
              "      <td>0</td>\n",
              "      <td>0.000000</td>\n",
              "    </tr>\n",
              "    <tr>\n",
              "      <th>lat</th>\n",
              "      <td>0</td>\n",
              "      <td>0.000000</td>\n",
              "    </tr>\n",
              "    <tr>\n",
              "      <th>long</th>\n",
              "      <td>0</td>\n",
              "      <td>0.000000</td>\n",
              "    </tr>\n",
              "    <tr>\n",
              "      <th>price</th>\n",
              "      <td>0</td>\n",
              "      <td>0.000000</td>\n",
              "    </tr>\n",
              "  </tbody>\n",
              "</table>\n",
              "</div>"
            ],
            "text/plain": [
              "               Total   Percent\n",
              "sqft_lot15         1  0.000316\n",
              "sqft_living15      1  0.000316\n",
              "condition          0  0.000000\n",
              "bedrooms           0  0.000000\n",
              "bathrooms          0  0.000000\n",
              "sqft_living        0  0.000000\n",
              "sqft_lot           0  0.000000\n",
              "waterfront         0  0.000000\n",
              "view               0  0.000000\n",
              "grade              0  0.000000\n",
              "sqft_above         0  0.000000\n",
              "sqft_basement      0  0.000000\n",
              "yr_built           0  0.000000\n",
              "yr_renovated       0  0.000000\n",
              "lat                0  0.000000\n",
              "long               0  0.000000\n",
              "price              0  0.000000"
            ]
          },
          "metadata": {
            "tags": []
          },
          "execution_count": 7
        }
      ]
    },
    {
      "cell_type": "code",
      "metadata": {
        "id": "ovxSP2EP_A43",
        "colab_type": "code",
        "colab": {}
      },
      "source": [
        "'''\n",
        "Karena missing value hanya berjumlah 2 data saja, maka kami memutuskan untuk menghiraukan \n",
        "row dataset yang memiliki missing value\n",
        "'''\n",
        "clean_dataset = raw_dataset.drop(raw_dataset.loc[raw_dataset['sqft_lot15'].isnull()].index)\n",
        "clean_dataset = raw_dataset.drop(raw_dataset.loc[raw_dataset['sqft_living15'].isnull()].index)"
      ],
      "execution_count": 0,
      "outputs": []
    },
    {
      "cell_type": "code",
      "metadata": {
        "id": "cnZGajyVRw5e",
        "colab_type": "code",
        "outputId": "535eec39-641a-458e-d91b-e92214355961",
        "colab": {
          "base_uri": "https://localhost:8080/",
          "height": 34
        }
      },
      "source": [
        "# memerika missing value \n",
        "clean_dataset.isnull().sum().max()"
      ],
      "execution_count": 0,
      "outputs": [
        {
          "output_type": "execute_result",
          "data": {
            "text/plain": [
              "0"
            ]
          },
          "metadata": {
            "tags": []
          },
          "execution_count": 9
        }
      ]
    },
    {
      "cell_type": "code",
      "metadata": {
        "id": "M2DWfvyNR3Qs",
        "colab_type": "code",
        "outputId": "e5e4b71b-71fc-4d1b-f8f1-2277edd2fdcb",
        "colab": {
          "base_uri": "https://localhost:8080/",
          "height": 439
        }
      },
      "source": [
        "clean_dataset"
      ],
      "execution_count": 0,
      "outputs": [
        {
          "output_type": "execute_result",
          "data": {
            "text/html": [
              "<div>\n",
              "<style scoped>\n",
              "    .dataframe tbody tr th:only-of-type {\n",
              "        vertical-align: middle;\n",
              "    }\n",
              "\n",
              "    .dataframe tbody tr th {\n",
              "        vertical-align: top;\n",
              "    }\n",
              "\n",
              "    .dataframe thead th {\n",
              "        text-align: right;\n",
              "    }\n",
              "</style>\n",
              "<table border=\"1\" class=\"dataframe\">\n",
              "  <thead>\n",
              "    <tr style=\"text-align: right;\">\n",
              "      <th></th>\n",
              "      <th>price</th>\n",
              "      <th>bedrooms</th>\n",
              "      <th>bathrooms</th>\n",
              "      <th>sqft_living</th>\n",
              "      <th>sqft_lot</th>\n",
              "      <th>waterfront</th>\n",
              "      <th>view</th>\n",
              "      <th>condition</th>\n",
              "      <th>grade</th>\n",
              "      <th>sqft_above</th>\n",
              "      <th>sqft_basement</th>\n",
              "      <th>yr_built</th>\n",
              "      <th>yr_renovated</th>\n",
              "      <th>lat</th>\n",
              "      <th>long</th>\n",
              "      <th>sqft_living15</th>\n",
              "      <th>sqft_lot15</th>\n",
              "    </tr>\n",
              "  </thead>\n",
              "  <tbody>\n",
              "    <tr>\n",
              "      <th>0</th>\n",
              "      <td>221900.0</td>\n",
              "      <td>3.0</td>\n",
              "      <td>1.00</td>\n",
              "      <td>1180.0</td>\n",
              "      <td>5650</td>\n",
              "      <td>0</td>\n",
              "      <td>0</td>\n",
              "      <td>3</td>\n",
              "      <td>7</td>\n",
              "      <td>1180</td>\n",
              "      <td>0</td>\n",
              "      <td>1955</td>\n",
              "      <td>0</td>\n",
              "      <td>47.5112</td>\n",
              "      <td>-122.257</td>\n",
              "      <td>1340.0</td>\n",
              "      <td>5650.0</td>\n",
              "    </tr>\n",
              "    <tr>\n",
              "      <th>1</th>\n",
              "      <td>538000.0</td>\n",
              "      <td>3.0</td>\n",
              "      <td>2.25</td>\n",
              "      <td>2570.0</td>\n",
              "      <td>7242</td>\n",
              "      <td>0</td>\n",
              "      <td>0</td>\n",
              "      <td>3</td>\n",
              "      <td>7</td>\n",
              "      <td>2170</td>\n",
              "      <td>400</td>\n",
              "      <td>1951</td>\n",
              "      <td>1991</td>\n",
              "      <td>47.7210</td>\n",
              "      <td>-122.319</td>\n",
              "      <td>1690.0</td>\n",
              "      <td>7639.0</td>\n",
              "    </tr>\n",
              "    <tr>\n",
              "      <th>2</th>\n",
              "      <td>180000.0</td>\n",
              "      <td>2.0</td>\n",
              "      <td>1.00</td>\n",
              "      <td>770.0</td>\n",
              "      <td>10000</td>\n",
              "      <td>0</td>\n",
              "      <td>0</td>\n",
              "      <td>3</td>\n",
              "      <td>6</td>\n",
              "      <td>770</td>\n",
              "      <td>0</td>\n",
              "      <td>1933</td>\n",
              "      <td>0</td>\n",
              "      <td>47.7379</td>\n",
              "      <td>-122.233</td>\n",
              "      <td>2720.0</td>\n",
              "      <td>8062.0</td>\n",
              "    </tr>\n",
              "    <tr>\n",
              "      <th>3</th>\n",
              "      <td>604000.0</td>\n",
              "      <td>4.0</td>\n",
              "      <td>3.00</td>\n",
              "      <td>1960.0</td>\n",
              "      <td>5000</td>\n",
              "      <td>0</td>\n",
              "      <td>0</td>\n",
              "      <td>5</td>\n",
              "      <td>7</td>\n",
              "      <td>1050</td>\n",
              "      <td>910</td>\n",
              "      <td>1965</td>\n",
              "      <td>0</td>\n",
              "      <td>47.5208</td>\n",
              "      <td>-122.393</td>\n",
              "      <td>1360.0</td>\n",
              "      <td>5000.0</td>\n",
              "    </tr>\n",
              "    <tr>\n",
              "      <th>4</th>\n",
              "      <td>510000.0</td>\n",
              "      <td>3.0</td>\n",
              "      <td>2.00</td>\n",
              "      <td>1680.0</td>\n",
              "      <td>8080</td>\n",
              "      <td>0</td>\n",
              "      <td>0</td>\n",
              "      <td>3</td>\n",
              "      <td>8</td>\n",
              "      <td>1680</td>\n",
              "      <td>0</td>\n",
              "      <td>1987</td>\n",
              "      <td>0</td>\n",
              "      <td>47.6168</td>\n",
              "      <td>-122.045</td>\n",
              "      <td>1800.0</td>\n",
              "      <td>7503.0</td>\n",
              "    </tr>\n",
              "    <tr>\n",
              "      <th>...</th>\n",
              "      <td>...</td>\n",
              "      <td>...</td>\n",
              "      <td>...</td>\n",
              "      <td>...</td>\n",
              "      <td>...</td>\n",
              "      <td>...</td>\n",
              "      <td>...</td>\n",
              "      <td>...</td>\n",
              "      <td>...</td>\n",
              "      <td>...</td>\n",
              "      <td>...</td>\n",
              "      <td>...</td>\n",
              "      <td>...</td>\n",
              "      <td>...</td>\n",
              "      <td>...</td>\n",
              "      <td>...</td>\n",
              "      <td>...</td>\n",
              "    </tr>\n",
              "    <tr>\n",
              "      <th>3159</th>\n",
              "      <td>431000.0</td>\n",
              "      <td>3.0</td>\n",
              "      <td>1.75</td>\n",
              "      <td>1630.0</td>\n",
              "      <td>9000</td>\n",
              "      <td>0</td>\n",
              "      <td>0</td>\n",
              "      <td>4</td>\n",
              "      <td>7</td>\n",
              "      <td>1630</td>\n",
              "      <td>0</td>\n",
              "      <td>1956</td>\n",
              "      <td>0</td>\n",
              "      <td>47.4521</td>\n",
              "      <td>-122.360</td>\n",
              "      <td>1600.0</td>\n",
              "      <td>11120.0</td>\n",
              "    </tr>\n",
              "    <tr>\n",
              "      <th>3160</th>\n",
              "      <td>485000.0</td>\n",
              "      <td>3.0</td>\n",
              "      <td>2.50</td>\n",
              "      <td>1840.0</td>\n",
              "      <td>8250</td>\n",
              "      <td>0</td>\n",
              "      <td>1</td>\n",
              "      <td>3</td>\n",
              "      <td>8</td>\n",
              "      <td>1340</td>\n",
              "      <td>500</td>\n",
              "      <td>1958</td>\n",
              "      <td>0</td>\n",
              "      <td>47.7767</td>\n",
              "      <td>-122.378</td>\n",
              "      <td>1970.0</td>\n",
              "      <td>7920.0</td>\n",
              "    </tr>\n",
              "    <tr>\n",
              "      <th>3161</th>\n",
              "      <td>780000.0</td>\n",
              "      <td>3.0</td>\n",
              "      <td>1.50</td>\n",
              "      <td>1620.0</td>\n",
              "      <td>7500</td>\n",
              "      <td>0</td>\n",
              "      <td>2</td>\n",
              "      <td>4</td>\n",
              "      <td>8</td>\n",
              "      <td>1620</td>\n",
              "      <td>0</td>\n",
              "      <td>1949</td>\n",
              "      <td>0</td>\n",
              "      <td>47.7014</td>\n",
              "      <td>-122.381</td>\n",
              "      <td>2440.0</td>\n",
              "      <td>7800.0</td>\n",
              "    </tr>\n",
              "    <tr>\n",
              "      <th>3162</th>\n",
              "      <td>720000.0</td>\n",
              "      <td>2.0</td>\n",
              "      <td>1.50</td>\n",
              "      <td>1840.0</td>\n",
              "      <td>9000</td>\n",
              "      <td>0</td>\n",
              "      <td>2</td>\n",
              "      <td>3</td>\n",
              "      <td>8</td>\n",
              "      <td>1340</td>\n",
              "      <td>500</td>\n",
              "      <td>1957</td>\n",
              "      <td>0</td>\n",
              "      <td>47.5281</td>\n",
              "      <td>-122.388</td>\n",
              "      <td>1880.0</td>\n",
              "      <td>7560.0</td>\n",
              "    </tr>\n",
              "    <tr>\n",
              "      <th>3163</th>\n",
              "      <td>415000.0</td>\n",
              "      <td>3.0</td>\n",
              "      <td>1.00</td>\n",
              "      <td>1360.0</td>\n",
              "      <td>73616</td>\n",
              "      <td>0</td>\n",
              "      <td>0</td>\n",
              "      <td>3</td>\n",
              "      <td>7</td>\n",
              "      <td>1360</td>\n",
              "      <td>0</td>\n",
              "      <td>1971</td>\n",
              "      <td>0</td>\n",
              "      <td>47.7528</td>\n",
              "      <td>-122.119</td>\n",
              "      <td>2040.0</td>\n",
              "      <td>50965.0</td>\n",
              "    </tr>\n",
              "  </tbody>\n",
              "</table>\n",
              "<p>3164 rows × 17 columns</p>\n",
              "</div>"
            ],
            "text/plain": [
              "         price  bedrooms  bathrooms  ...     long  sqft_living15  sqft_lot15\n",
              "0     221900.0       3.0       1.00  ... -122.257         1340.0      5650.0\n",
              "1     538000.0       3.0       2.25  ... -122.319         1690.0      7639.0\n",
              "2     180000.0       2.0       1.00  ... -122.233         2720.0      8062.0\n",
              "3     604000.0       4.0       3.00  ... -122.393         1360.0      5000.0\n",
              "4     510000.0       3.0       2.00  ... -122.045         1800.0      7503.0\n",
              "...        ...       ...        ...  ...      ...            ...         ...\n",
              "3159  431000.0       3.0       1.75  ... -122.360         1600.0     11120.0\n",
              "3160  485000.0       3.0       2.50  ... -122.378         1970.0      7920.0\n",
              "3161  780000.0       3.0       1.50  ... -122.381         2440.0      7800.0\n",
              "3162  720000.0       2.0       1.50  ... -122.388         1880.0      7560.0\n",
              "3163  415000.0       3.0       1.00  ... -122.119         2040.0     50965.0\n",
              "\n",
              "[3164 rows x 17 columns]"
            ]
          },
          "metadata": {
            "tags": []
          },
          "execution_count": 10
        }
      ]
    },
    {
      "cell_type": "markdown",
      "metadata": {
        "id": "KL2Ma-56_2__",
        "colab_type": "text"
      },
      "source": [
        "### b. Correlation"
      ]
    },
    {
      "cell_type": "code",
      "metadata": {
        "id": "hs4ma9CPW3zP",
        "colab_type": "code",
        "colab": {}
      },
      "source": [
        "# sns.pairplot(clean_dataset)\n",
        "# plt.show();"
      ],
      "execution_count": 0,
      "outputs": []
    },
    {
      "cell_type": "code",
      "metadata": {
        "id": "yo12CT38W5tc",
        "colab_type": "code",
        "colab": {}
      },
      "source": [
        "features = SELECTED_COLS\n",
        "price_col = features.pop(6)"
      ],
      "execution_count": 0,
      "outputs": []
    },
    {
      "cell_type": "code",
      "metadata": {
        "id": "TnezY1M72n5A",
        "colab_type": "code",
        "colab": {}
      },
      "source": [
        "correlation={}\n",
        "for f in features:\n",
        "    data1 = clean_dataset[[f,price_col]]\n",
        "    x1= data1[f].values\n",
        "    x2= data1[price_col].values\n",
        "    key = f\n",
        "    correlation[key] = pearsonr(x1,x2)[0]"
      ],
      "execution_count": 0,
      "outputs": []
    },
    {
      "cell_type": "code",
      "metadata": {
        "id": "lZxiYmCa6EPX",
        "colab_type": "code",
        "outputId": "e950b597-94a5-49de-f27e-0faf0db47838",
        "colab": {
          "base_uri": "https://localhost:8080/",
          "height": 545
        }
      },
      "source": [
        "## Mengurutkan korelasi terhadap price\n",
        "\n",
        "data_correlations = pd.DataFrame(correlation, index=['Value']).T\n",
        "sorted_data_correlations = data_correlations.loc[data_correlations['Value'].abs().sort_values(ascending=False).index]\n",
        "sorted_data_correlations"
      ],
      "execution_count": 0,
      "outputs": [
        {
          "output_type": "execute_result",
          "data": {
            "text/html": [
              "<div>\n",
              "<style scoped>\n",
              "    .dataframe tbody tr th:only-of-type {\n",
              "        vertical-align: middle;\n",
              "    }\n",
              "\n",
              "    .dataframe tbody tr th {\n",
              "        vertical-align: top;\n",
              "    }\n",
              "\n",
              "    .dataframe thead th {\n",
              "        text-align: right;\n",
              "    }\n",
              "</style>\n",
              "<table border=\"1\" class=\"dataframe\">\n",
              "  <thead>\n",
              "    <tr style=\"text-align: right;\">\n",
              "      <th></th>\n",
              "      <th>Value</th>\n",
              "    </tr>\n",
              "  </thead>\n",
              "  <tbody>\n",
              "    <tr>\n",
              "      <th>sqft_living</th>\n",
              "      <td>0.705048</td>\n",
              "    </tr>\n",
              "    <tr>\n",
              "      <th>grade</th>\n",
              "      <td>0.654124</td>\n",
              "    </tr>\n",
              "    <tr>\n",
              "      <th>sqft_living15</th>\n",
              "      <td>0.607973</td>\n",
              "    </tr>\n",
              "    <tr>\n",
              "      <th>sqft_above</th>\n",
              "      <td>0.599095</td>\n",
              "    </tr>\n",
              "    <tr>\n",
              "      <th>bathrooms</th>\n",
              "      <td>0.525509</td>\n",
              "    </tr>\n",
              "    <tr>\n",
              "      <th>view</th>\n",
              "      <td>0.443541</td>\n",
              "    </tr>\n",
              "    <tr>\n",
              "      <th>waterfront</th>\n",
              "      <td>0.366537</td>\n",
              "    </tr>\n",
              "    <tr>\n",
              "      <th>sqft_basement</th>\n",
              "      <td>0.348599</td>\n",
              "    </tr>\n",
              "    <tr>\n",
              "      <th>lat</th>\n",
              "      <td>0.301254</td>\n",
              "    </tr>\n",
              "    <tr>\n",
              "      <th>bedrooms</th>\n",
              "      <td>0.292742</td>\n",
              "    </tr>\n",
              "    <tr>\n",
              "      <th>yr_renovated</th>\n",
              "      <td>0.122820</td>\n",
              "    </tr>\n",
              "    <tr>\n",
              "      <th>sqft_lot15</th>\n",
              "      <td>0.100527</td>\n",
              "    </tr>\n",
              "    <tr>\n",
              "      <th>sqft_lot</th>\n",
              "      <td>0.074333</td>\n",
              "    </tr>\n",
              "    <tr>\n",
              "      <th>condition</th>\n",
              "      <td>0.053536</td>\n",
              "    </tr>\n",
              "    <tr>\n",
              "      <th>yr_built</th>\n",
              "      <td>0.037051</td>\n",
              "    </tr>\n",
              "    <tr>\n",
              "      <th>long</th>\n",
              "      <td>0.017090</td>\n",
              "    </tr>\n",
              "  </tbody>\n",
              "</table>\n",
              "</div>"
            ],
            "text/plain": [
              "                  Value\n",
              "sqft_living    0.705048\n",
              "grade          0.654124\n",
              "sqft_living15  0.607973\n",
              "sqft_above     0.599095\n",
              "bathrooms      0.525509\n",
              "view           0.443541\n",
              "waterfront     0.366537\n",
              "sqft_basement  0.348599\n",
              "lat            0.301254\n",
              "bedrooms       0.292742\n",
              "yr_renovated   0.122820\n",
              "sqft_lot15     0.100527\n",
              "sqft_lot       0.074333\n",
              "condition      0.053536\n",
              "yr_built       0.037051\n",
              "long           0.017090"
            ]
          },
          "metadata": {
            "tags": []
          },
          "execution_count": 14
        }
      ]
    },
    {
      "cell_type": "markdown",
      "metadata": {
        "id": "LLeNoWxacnZA",
        "colab_type": "text"
      },
      "source": [
        "\n",
        "\n",
        "\n",
        "Hanya mengambil 10 features yang memiliki korelasi paling tinggi dengan price"
      ]
    },
    {
      "cell_type": "code",
      "metadata": {
        "id": "rXRaJ8-ZcxmJ",
        "colab_type": "code",
        "colab": {}
      },
      "source": [
        "SELECTED_COLS = sorted_data_correlations.T.columns[:10].tolist()\n",
        "SELECTED_COLS.append(price_col)"
      ],
      "execution_count": 0,
      "outputs": []
    },
    {
      "cell_type": "code",
      "metadata": {
        "id": "KHQwJyFj9wvr",
        "colab_type": "code",
        "outputId": "95590f10-03fb-4338-a6e0-aee5714d2e46",
        "colab": {
          "base_uri": "https://localhost:8080/",
          "height": 204
        }
      },
      "source": [
        "SELECTED_COLS"
      ],
      "execution_count": 0,
      "outputs": [
        {
          "output_type": "execute_result",
          "data": {
            "text/plain": [
              "['sqft_living',\n",
              " 'grade',\n",
              " 'sqft_living15',\n",
              " 'sqft_above',\n",
              " 'bathrooms',\n",
              " 'view',\n",
              " 'waterfront',\n",
              " 'sqft_basement',\n",
              " 'lat',\n",
              " 'bedrooms',\n",
              " 'price']"
            ]
          },
          "metadata": {
            "tags": []
          },
          "execution_count": 16
        }
      ]
    },
    {
      "cell_type": "code",
      "metadata": {
        "id": "V2jH6D4Z9q_2",
        "colab_type": "code",
        "colab": {}
      },
      "source": [
        "clean_dataset = clean_dataset[SELECTED_COLS]"
      ],
      "execution_count": 0,
      "outputs": []
    },
    {
      "cell_type": "markdown",
      "metadata": {
        "colab_type": "text",
        "id": "HdhNQ74ah-z2"
      },
      "source": [
        "### c. Split untuk Train dan Test"
      ]
    },
    {
      "cell_type": "code",
      "metadata": {
        "id": "W9_XYQ-eiDn3",
        "colab_type": "code",
        "colab": {}
      },
      "source": [
        "train_dataset = clean_dataset.sample(frac=0.8,random_state=0)\n",
        "test_dataset = clean_dataset.drop(train_dataset.index)"
      ],
      "execution_count": 0,
      "outputs": []
    },
    {
      "cell_type": "code",
      "metadata": {
        "id": "T-uM4djLoPCl",
        "colab_type": "code",
        "outputId": "28cb2f48-5529-4cc9-ed49-41a5a5d2897e",
        "colab": {
          "base_uri": "https://localhost:8080/",
          "height": 359
        }
      },
      "source": [
        "train_stats = train_dataset.describe()\n",
        "train_stats.pop(\"price\")\n",
        "train_stats = train_stats.transpose()\n",
        "train_stats"
      ],
      "execution_count": 0,
      "outputs": [
        {
          "output_type": "execute_result",
          "data": {
            "text/html": [
              "<div>\n",
              "<style scoped>\n",
              "    .dataframe tbody tr th:only-of-type {\n",
              "        vertical-align: middle;\n",
              "    }\n",
              "\n",
              "    .dataframe tbody tr th {\n",
              "        vertical-align: top;\n",
              "    }\n",
              "\n",
              "    .dataframe thead th {\n",
              "        text-align: right;\n",
              "    }\n",
              "</style>\n",
              "<table border=\"1\" class=\"dataframe\">\n",
              "  <thead>\n",
              "    <tr style=\"text-align: right;\">\n",
              "      <th></th>\n",
              "      <th>count</th>\n",
              "      <th>mean</th>\n",
              "      <th>std</th>\n",
              "      <th>min</th>\n",
              "      <th>25%</th>\n",
              "      <th>50%</th>\n",
              "      <th>75%</th>\n",
              "      <th>max</th>\n",
              "    </tr>\n",
              "  </thead>\n",
              "  <tbody>\n",
              "    <tr>\n",
              "      <th>sqft_living</th>\n",
              "      <td>2531.0</td>\n",
              "      <td>2082.547610</td>\n",
              "      <td>930.341649</td>\n",
              "      <td>430.0000</td>\n",
              "      <td>1430.00000</td>\n",
              "      <td>1910.0000</td>\n",
              "      <td>2500.0000</td>\n",
              "      <td>8010.0000</td>\n",
              "    </tr>\n",
              "    <tr>\n",
              "      <th>grade</th>\n",
              "      <td>2531.0</td>\n",
              "      <td>7.632556</td>\n",
              "      <td>1.175890</td>\n",
              "      <td>4.0000</td>\n",
              "      <td>7.00000</td>\n",
              "      <td>7.0000</td>\n",
              "      <td>8.0000</td>\n",
              "      <td>12.0000</td>\n",
              "    </tr>\n",
              "    <tr>\n",
              "      <th>sqft_living15</th>\n",
              "      <td>2531.0</td>\n",
              "      <td>1990.404583</td>\n",
              "      <td>692.501914</td>\n",
              "      <td>740.0000</td>\n",
              "      <td>1490.00000</td>\n",
              "      <td>1840.0000</td>\n",
              "      <td>2360.0000</td>\n",
              "      <td>5790.0000</td>\n",
              "    </tr>\n",
              "    <tr>\n",
              "      <th>sqft_above</th>\n",
              "      <td>2531.0</td>\n",
              "      <td>1776.760964</td>\n",
              "      <td>825.830264</td>\n",
              "      <td>430.0000</td>\n",
              "      <td>1200.00000</td>\n",
              "      <td>1550.0000</td>\n",
              "      <td>2167.5000</td>\n",
              "      <td>6720.0000</td>\n",
              "    </tr>\n",
              "    <tr>\n",
              "      <th>bathrooms</th>\n",
              "      <td>2531.0</td>\n",
              "      <td>2.075958</td>\n",
              "      <td>0.773565</td>\n",
              "      <td>0.0000</td>\n",
              "      <td>1.50000</td>\n",
              "      <td>2.0000</td>\n",
              "      <td>2.5000</td>\n",
              "      <td>6.0000</td>\n",
              "    </tr>\n",
              "    <tr>\n",
              "      <th>view</th>\n",
              "      <td>2531.0</td>\n",
              "      <td>0.248913</td>\n",
              "      <td>0.786543</td>\n",
              "      <td>0.0000</td>\n",
              "      <td>0.00000</td>\n",
              "      <td>0.0000</td>\n",
              "      <td>0.0000</td>\n",
              "      <td>4.0000</td>\n",
              "    </tr>\n",
              "    <tr>\n",
              "      <th>waterfront</th>\n",
              "      <td>2531.0</td>\n",
              "      <td>0.010668</td>\n",
              "      <td>0.102753</td>\n",
              "      <td>0.0000</td>\n",
              "      <td>0.00000</td>\n",
              "      <td>0.0000</td>\n",
              "      <td>0.0000</td>\n",
              "      <td>1.0000</td>\n",
              "    </tr>\n",
              "    <tr>\n",
              "      <th>sqft_basement</th>\n",
              "      <td>2531.0</td>\n",
              "      <td>305.786646</td>\n",
              "      <td>458.703172</td>\n",
              "      <td>0.0000</td>\n",
              "      <td>0.00000</td>\n",
              "      <td>0.0000</td>\n",
              "      <td>600.0000</td>\n",
              "      <td>2620.0000</td>\n",
              "    </tr>\n",
              "    <tr>\n",
              "      <th>lat</th>\n",
              "      <td>2531.0</td>\n",
              "      <td>47.558963</td>\n",
              "      <td>0.140975</td>\n",
              "      <td>47.1775</td>\n",
              "      <td>47.45915</td>\n",
              "      <td>47.5732</td>\n",
              "      <td>47.6805</td>\n",
              "      <td>47.7776</td>\n",
              "    </tr>\n",
              "    <tr>\n",
              "      <th>bedrooms</th>\n",
              "      <td>2531.0</td>\n",
              "      <td>3.393915</td>\n",
              "      <td>0.880232</td>\n",
              "      <td>0.0000</td>\n",
              "      <td>3.00000</td>\n",
              "      <td>3.0000</td>\n",
              "      <td>4.0000</td>\n",
              "      <td>7.0000</td>\n",
              "    </tr>\n",
              "  </tbody>\n",
              "</table>\n",
              "</div>"
            ],
            "text/plain": [
              "                count         mean         std  ...        50%        75%        max\n",
              "sqft_living    2531.0  2082.547610  930.341649  ...  1910.0000  2500.0000  8010.0000\n",
              "grade          2531.0     7.632556    1.175890  ...     7.0000     8.0000    12.0000\n",
              "sqft_living15  2531.0  1990.404583  692.501914  ...  1840.0000  2360.0000  5790.0000\n",
              "sqft_above     2531.0  1776.760964  825.830264  ...  1550.0000  2167.5000  6720.0000\n",
              "bathrooms      2531.0     2.075958    0.773565  ...     2.0000     2.5000     6.0000\n",
              "view           2531.0     0.248913    0.786543  ...     0.0000     0.0000     4.0000\n",
              "waterfront     2531.0     0.010668    0.102753  ...     0.0000     0.0000     1.0000\n",
              "sqft_basement  2531.0   305.786646  458.703172  ...     0.0000   600.0000  2620.0000\n",
              "lat            2531.0    47.558963    0.140975  ...    47.5732    47.6805    47.7776\n",
              "bedrooms       2531.0     3.393915    0.880232  ...     3.0000     4.0000     7.0000\n",
              "\n",
              "[10 rows x 8 columns]"
            ]
          },
          "metadata": {
            "tags": []
          },
          "execution_count": 19
        }
      ]
    },
    {
      "cell_type": "code",
      "metadata": {
        "id": "jhm0BY70oewK",
        "colab_type": "code",
        "colab": {}
      },
      "source": [
        "train_labels = train_dataset.pop('price')\n",
        "test_labels = test_dataset.pop('price')\n",
        "\n",
        "train_labels = np.log1p(train_labels)\n",
        "test_labels = np.log1p(test_labels)"
      ],
      "execution_count": 0,
      "outputs": []
    },
    {
      "cell_type": "markdown",
      "metadata": {
        "id": "CyHbWSD6pUCT",
        "colab_type": "text"
      },
      "source": [
        "### d. Normalize dataset"
      ]
    },
    {
      "cell_type": "code",
      "metadata": {
        "id": "iFCJMsCZpfho",
        "colab_type": "code",
        "colab": {}
      },
      "source": [
        "def norm(x):\n",
        "  return (x - train_stats['mean']) / train_stats['std']\n",
        "normed_train_data = norm(train_dataset)\n",
        "normed_test_data = norm(test_dataset)"
      ],
      "execution_count": 0,
      "outputs": []
    },
    {
      "cell_type": "markdown",
      "metadata": {
        "id": "pB94dlz4jR-W",
        "colab_type": "text"
      },
      "source": [
        "---\n",
        "# Buat Prediksi Price"
      ]
    },
    {
      "cell_type": "code",
      "metadata": {
        "id": "bM0UN9zNjIu-",
        "colab_type": "code",
        "colab": {}
      },
      "source": [
        "def build_model():\n",
        "  model = keras.Sequential([\n",
        "    layers.Dense(64, activation='relu', input_shape=[len(train_dataset.keys())]),\n",
        "    layers.Dense(64, activation='relu'),\n",
        "    layers.Dense(1)\n",
        "  ])\n",
        "\n",
        "  optimizer = tf.keras.optimizers.RMSprop(0.001)\n",
        "\n",
        "  model.compile(loss='mse',\n",
        "                optimizer=optimizer,\n",
        "                metrics=['mae', 'mse'])\n",
        "  return model"
      ],
      "execution_count": 0,
      "outputs": []
    },
    {
      "cell_type": "code",
      "metadata": {
        "id": "VFrSM_bgkihR",
        "colab_type": "code",
        "outputId": "3079bdbc-b55a-437f-8115-4715c1a8f19d",
        "colab": {
          "base_uri": "https://localhost:8080/",
          "height": 255
        }
      },
      "source": [
        "model = build_model()\n",
        "model.summary()"
      ],
      "execution_count": 0,
      "outputs": [
        {
          "output_type": "stream",
          "text": [
            "Model: \"sequential\"\n",
            "_________________________________________________________________\n",
            "Layer (type)                 Output Shape              Param #   \n",
            "=================================================================\n",
            "dense (Dense)                (None, 64)                704       \n",
            "_________________________________________________________________\n",
            "dense_1 (Dense)              (None, 64)                4160      \n",
            "_________________________________________________________________\n",
            "dense_2 (Dense)              (None, 1)                 65        \n",
            "=================================================================\n",
            "Total params: 4,929\n",
            "Trainable params: 4,929\n",
            "Non-trainable params: 0\n",
            "_________________________________________________________________\n"
          ],
          "name": "stdout"
        }
      ]
    },
    {
      "cell_type": "code",
      "metadata": {
        "id": "GOyqFtlPkw9R",
        "colab_type": "code",
        "outputId": "74696781-da10-49af-f457-65b7554822a2",
        "colab": {
          "base_uri": "https://localhost:8080/",
          "height": 411
        }
      },
      "source": [
        "EPOCHS = 1000\n",
        "\n",
        "history = model.fit(\n",
        "  normed_train_data, train_labels,\n",
        "  epochs=EPOCHS, validation_split = 0.2, verbose=0,\n",
        "  callbacks=[tfdocs.modeling.EpochDots()])"
      ],
      "execution_count": 0,
      "outputs": [
        {
          "output_type": "stream",
          "text": [
            "WARNING:tensorflow:Falling back from v2 loop because of error: Failed to find data adapter that can handle input: <class 'pandas.core.frame.DataFrame'>, <class 'NoneType'>\n",
            "\n",
            "Epoch: 0, loss:79.1524,  mae:8.2820,  mse:79.1524,  val_loss:22.0942,  val_mae:4.1330,  val_mse:22.0942,  \n",
            "....................................................................................................\n",
            "Epoch: 100, loss:0.0637,  mae:0.1922,  mse:0.0637,  val_loss:0.0690,  val_mae:0.1985,  val_mse:0.0690,  \n",
            "....................................................................................................\n",
            "Epoch: 200, loss:0.0553,  mae:0.1825,  mse:0.0553,  val_loss:0.0606,  val_mae:0.1877,  val_mse:0.0606,  \n",
            "....................................................................................................\n",
            "Epoch: 300, loss:0.0511,  mae:0.1754,  mse:0.0511,  val_loss:0.0646,  val_mae:0.1922,  val_mse:0.0646,  \n",
            "....................................................................................................\n",
            "Epoch: 400, loss:0.0473,  mae:0.1691,  mse:0.0473,  val_loss:0.0744,  val_mae:0.2086,  val_mse:0.0744,  \n",
            "....................................................................................................\n",
            "Epoch: 500, loss:0.0470,  mae:0.1680,  mse:0.0470,  val_loss:0.0576,  val_mae:0.1784,  val_mse:0.0576,  \n",
            "....................................................................................................\n",
            "Epoch: 600, loss:0.0422,  mae:0.1614,  mse:0.0422,  val_loss:0.1003,  val_mae:0.2552,  val_mse:0.1003,  \n",
            "....................................................................................................\n",
            "Epoch: 700, loss:0.0380,  mae:0.1484,  mse:0.0380,  val_loss:0.0643,  val_mae:0.1896,  val_mse:0.0643,  \n",
            "....................................................................................................\n",
            "Epoch: 800, loss:0.0377,  mae:0.1508,  mse:0.0377,  val_loss:0.0730,  val_mae:0.2022,  val_mse:0.0730,  \n",
            "....................................................................................................\n",
            "Epoch: 900, loss:0.0332,  mae:0.1399,  mse:0.0332,  val_loss:0.1217,  val_mae:0.2856,  val_mse:0.1217,  \n",
            "...................................................................................................."
          ],
          "name": "stdout"
        }
      ]
    },
    {
      "cell_type": "markdown",
      "metadata": {
        "id": "1OTOIDgTe95B",
        "colab_type": "text"
      },
      "source": [
        "#### Plot Training History"
      ]
    },
    {
      "cell_type": "markdown",
      "metadata": {
        "id": "O3VWrWjXfSWs",
        "colab_type": "text"
      },
      "source": [
        "- MAE Metric"
      ]
    },
    {
      "cell_type": "code",
      "metadata": {
        "id": "MSztn44Fm86U",
        "colab_type": "code",
        "outputId": "ee380821-3375-4487-a8f0-9fd73e0c3179",
        "colab": {
          "base_uri": "https://localhost:8080/",
          "height": 306
        }
      },
      "source": [
        "plotter = tfdocs.plots.HistoryPlotter(smoothing_std=2)\n",
        "\n",
        "plotter.plot({'Basic': history}, metric = \"mae\")\n",
        "plt.ylim([0, 10])\n",
        "plt.ylabel('MAE [MPG]')"
      ],
      "execution_count": 0,
      "outputs": [
        {
          "output_type": "execute_result",
          "data": {
            "text/plain": [
              "Text(0, 0.5, 'MAE [MPG]')"
            ]
          },
          "metadata": {
            "tags": []
          },
          "execution_count": 25
        },
        {
          "output_type": "display_data",
          "data": {
            "image/png": "[encoded data removed]",
            "text/plain": [
              "<Figure size 432x288 with 1 Axes>"
            ]
          },
          "metadata": {
            "tags": []
          }
        }
      ]
    },
    {
      "cell_type": "markdown",
      "metadata": {
        "id": "WieB5yqvfVTr",
        "colab_type": "text"
      },
      "source": [
        "- MSE Metric"
      ]
    },
    {
      "cell_type": "code",
      "metadata": {
        "id": "gWAyrNmTfG23",
        "colab_type": "code",
        "outputId": "927f8d64-101b-4325-b4e6-86879487864d",
        "colab": {
          "base_uri": "https://localhost:8080/",
          "height": 306
        }
      },
      "source": [
        "plotter.plot({'Basic': history}, metric = \"mse\")\n",
        "plt.ylim([0, 20])\n",
        "plt.ylabel('MSE [MPG^2]')"
      ],
      "execution_count": 0,
      "outputs": [
        {
          "output_type": "execute_result",
          "data": {
            "text/plain": [
              "Text(0, 0.5, 'MSE [MPG^2]')"
            ]
          },
          "metadata": {
            "tags": []
          },
          "execution_count": 26
        },
        {
          "output_type": "display_data",
          "data": {
            "image/png": "[encoded data removed]",
            "text/plain": [
              "<Figure size 432x288 with 1 Axes>"
            ]
          },
          "metadata": {
            "tags": []
          }
        }
      ]
    },
    {
      "cell_type": "markdown",
      "metadata": {
        "id": "TxPed1UZfiOg",
        "colab_type": "text"
      },
      "source": [
        "### Evaluate Model"
      ]
    },
    {
      "cell_type": "code",
      "metadata": {
        "id": "stxDmvKqjPCc",
        "colab_type": "code",
        "outputId": "b2974b81-17c8-4c85-fe74-397293091e81",
        "colab": {
          "base_uri": "https://localhost:8080/",
          "height": 54
        }
      },
      "source": [
        "test_predictions = model.predict(normed_test_data).flatten()\n",
        "\n",
        "test_labels = np.expm1(test_labels)\n",
        "test_predictions = np.expm1(test_predictions)"
      ],
      "execution_count": 0,
      "outputs": [
        {
          "output_type": "stream",
          "text": [
            "WARNING:tensorflow:Falling back from v2 loop because of error: Failed to find data adapter that can handle input: <class 'pandas.core.frame.DataFrame'>, <class 'NoneType'>\n"
          ],
          "name": "stdout"
        }
      ]
    },
    {
      "cell_type": "code",
      "metadata": {
        "id": "NxwZqhE-faGQ",
        "colab_type": "code",
        "outputId": "ab706adc-0f53-42a6-80de-4758a95bf33e",
        "colab": {
          "base_uri": "https://localhost:8080/",
          "height": 289
        }
      },
      "source": [
        "plt.scatter(test_labels, test_predictions)\n",
        "plt.xlabel('True Values [MPG]')\n",
        "plt.ylabel('Predictions [MPG]')\n",
        "lims = [0, 3000000]\n",
        "plt.xlim(lims)\n",
        "plt.ylim(lims)\n",
        "_ = plt.plot(lims, lims)\n",
        "plt.show()"
      ],
      "execution_count": 0,
      "outputs": [
        {
          "output_type": "display_data",
          "data": {
            "image/png": "[encoded data removed]",
            "text/plain": [
              "<Figure size 432x288 with 1 Axes>"
            ]
          },
          "metadata": {
            "tags": []
          }
        }
      ]
    },
    {
      "cell_type": "markdown",
      "metadata": {
        "id": "pitxND1MnyOc",
        "colab_type": "text"
      },
      "source": [
        "#### Error Distribution"
      ]
    },
    {
      "cell_type": "code",
      "metadata": {
        "id": "kuou6XyRgtqE",
        "colab_type": "code",
        "outputId": "6f355dc8-6b5d-4be9-cdee-4addcce37d33",
        "colab": {
          "base_uri": "https://localhost:8080/",
          "height": 285
        }
      },
      "source": [
        "error = test_predictions - test_labels\n",
        "plt.hist(error, bins = 25)\n",
        "plt.xlabel(\"Prediction Error [MPG]\")\n",
        "_ = plt.ylabel(\"Count\")"
      ],
      "execution_count": 0,
      "outputs": [
        {
          "output_type": "display_data",
          "data": {
            "image/png": "[encoded data removed]",
            "text/plain": [
              "<Figure size 432x288 with 1 Axes>"
            ]
          },
          "metadata": {
            "tags": []
          }
        }
      ]
    },
    {
      "cell_type": "markdown",
      "metadata": {
        "id": "G_UzCuNCoC8_",
        "colab_type": "text"
      },
      "source": [
        "#### Hasil membentuk distrbusi gaussian, sesuai dengan apa yang diharapkan.\n",
        "\n",
        "\n",
        "# Done :)"
      ]
    },
    {
      "cell_type": "code",
      "metadata": {
        "id": "_oK5hlsln2NV",
        "colab_type": "code",
        "colab": {}
      },
      "source": [
        "from sklearn.metrics import r2_score"
      ],
      "execution_count": 0,
      "outputs": []
    },
    {
      "cell_type": "code",
      "metadata": {
        "id": "xfiMsniOyuK7",
        "colab_type": "code",
        "outputId": "ec00ba11-f721-4896-83bc-766e3803773b",
        "colab": {
          "base_uri": "https://localhost:8080/",
          "height": 34
        }
      },
      "source": [
        "r2_score(test_labels, test_predictions)"
      ],
      "execution_count": 0,
      "outputs": [
        {
          "output_type": "execute_result",
          "data": {
            "text/plain": [
              "0.6537159967080203"
            ]
          },
          "metadata": {
            "tags": []
          },
          "execution_count": 31
        }
      ]
    },
    {
      "cell_type": "code",
      "metadata": {
        "id": "Z05D23Dqy2bA",
        "colab_type": "code",
        "outputId": "059236b1-8073-471f-a56b-997808bf5b4d",
        "colab": {
          "base_uri": "https://localhost:8080/",
          "height": 54
        }
      },
      "source": [
        "y = model.predict(normed_train_data)"
      ],
      "execution_count": 0,
      "outputs": [
        {
          "output_type": "stream",
          "text": [
            "WARNING:tensorflow:Falling back from v2 loop because of error: Failed to find data adapter that can handle input: <class 'pandas.core.frame.DataFrame'>, <class 'NoneType'>\n"
          ],
          "name": "stdout"
        }
      ]
    },
    {
      "cell_type": "code",
      "metadata": {
        "id": "qywANmSCzHMR",
        "colab_type": "code",
        "colab": {}
      },
      "source": [
        "test_labels = np.expm1(y)"
      ],
      "execution_count": 0,
      "outputs": []
    },
    {
      "cell_type": "code",
      "metadata": {
        "id": "EHA-gqT2zKbe",
        "colab_type": "code",
        "outputId": "f87017c1-0142-4e0c-c4ed-9efc65913d7c",
        "colab": {
          "base_uri": "https://localhost:8080/",
          "height": 34
        }
      },
      "source": [
        "r2_score(train_labels, y)"
      ],
      "execution_count": 0,
      "outputs": [
        {
          "output_type": "execute_result",
          "data": {
            "text/plain": [
              "0.8837560842517376"
            ]
          },
          "metadata": {
            "tags": []
          },
          "execution_count": 37
        }
      ]
    },
    {
      "cell_type": "code",
      "metadata": {
        "id": "o7AtogB7zZ0l",
        "colab_type": "code",
        "colab": {}
      },
      "source": [
        ""
      ],
      "execution_count": 0,
      "outputs": []
    }
  ]
}